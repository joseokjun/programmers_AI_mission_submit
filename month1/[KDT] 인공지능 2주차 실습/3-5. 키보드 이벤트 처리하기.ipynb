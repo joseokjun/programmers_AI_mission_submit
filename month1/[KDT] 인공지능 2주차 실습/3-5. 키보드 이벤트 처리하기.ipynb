{
 "cells": [
  {
   "cell_type": "markdown",
   "metadata": {},
   "source": [
    "## 3-5. 키보드 이벤트 처리하기\n",
    "\n",
    "- Selenium을 이용해서 키보드 Event를 동작해봅시다."
   ]
  },
  {
   "cell_type": "markdown",
   "metadata": {},
   "source": [
    "### Keyboard Event\n",
    "\n",
    "웹 페이지에서 일어나는 일들을 Event라고 합니다.\n",
    "\n",
    "키보드로 일어날 수 있는 대표적인 이벤트는 다음과 같습니다.\n",
    "\n",
    "- 키보드 누르기(press down)\n",
    "- 키보드 떼기(press up)\n",
    "- ..."
   ]
  },
  {
   "cell_type": "markdown",
   "metadata": {},
   "source": [
    "저희는 입력창(`input` 태그의 form)에 키보드 입력을 진행하는 것을 목표로 합니다.  \n",
    "키보드 입력은 크게 다음과 같은 과정을 거칩니다.\n",
    "\n",
    "1. 입력하고자 하는 대상 요소를 찾습니다. (`find_element()` 이용)\n",
    "2. 입력하고자 하는 내용을 `send_keys_to_element`를 통해 전달합니다.\n",
    "3. `.perform()`을 통해 동작합니다.\n",
    "\n",
    "아래 예시는 `id`가 textInput인 요소에 \"abc\"를 입력하는 예제입니다.\n",
    "```python\n",
    "text_input = driver.find_element(By.ID, \"textInput\")\n",
    "ActionChains(driver).send_keys_to_element(text_input, \"abc\").perform()\n",
    "```"
   ]
  },
  {
   "cell_type": "markdown",
   "metadata": {},
   "source": [
    "### Target: 해시코드 로그인하기\n",
    "\n",
    "다음 사이트에 Selenium을 이용해서 로그인을 진행해봅시다 : https://hashcode.co.kr "
   ]
  },
  {
   "cell_type": "code",
   "execution_count": 2,
   "metadata": {},
   "outputs": [],
   "source": [
    "# 스크래핑에 필요한 라이브러리를 불러와봅시다.\n",
    "\n",
    "from selenium import webdriver\n",
    "from selenium.webdriver import ActionChains\n",
    "from webdriver_manager.chrome import ChromeDriverManager\n",
    "from selenium.webdriver.common.actions.action_builder import ActionBuilder\n",
    "from selenium.webdriver import Keys, ActionChains\n",
    "from selenium.webdriver.chrome.service import Service\n",
    "from selenium.webdriver.common.by import By"
   ]
  },
  {
   "cell_type": "markdown",
   "metadata": {},
   "source": [
    "지난 실습에서 다룬 마우스 실습을 통해 로그인 창에 접속하는 것에 성공했는데요,  \n",
    "여기에 이제 키보드 입력을 넣어서 로그인을 완료해봅시다."
   ]
  },
  {
   "cell_type": "code",
   "execution_count": 4,
   "metadata": {},
   "outputs": [],
   "source": [
    "# driver를 이용해 해당 사이트에 요청을 보내봅시다.\n",
    "import time\n",
    "\n",
    "driver = webdriver.Chrome(service=Service(ChromeDriverManager().install()))\n",
    "driver.get(\"https://hashcode.co.kr/\")\n",
    "time.sleep(2)\n",
    "\n",
    "# 내비게이션 바에서 \"로그인\" 버튼을 찾아 눌러봅시다.\n",
    "button = driver.find_element(By.XPATH, '//*[@id=\"main-app-gnb-header\"]/div/div/div[1]/div/div[2]/div/div/div[1]/span[1]/a[1]')\n",
    "ActionChains(driver).click(button).perform()\n",
    "time.sleep(2)\n",
    "# \"아이디\" input 요소에 여러분의 아이디를 입력합니다.\n",
    "id_input = driver.find_element(By.XPATH,'//*[@id=\"main-app-account\"]/div/div[2]/div/div[2]/div[1]/div/div[2]/div[2]/input')\n",
    "ActionChains(driver).send_keys_to_element(id_input, \"csj8823@naver.com\").perform()\n",
    "# \"패스워드\" input 요소에 여러분의 비밀번호를 입력합니다.\n",
    "pw_input = driver.find_element(By.XPATH,'//*[@id=\"main-app-account\"]/div/div[2]/div/div[2]/div[1]/div/div[2]/div[4]/input')\n",
    "ActionChains(driver).send_keys_to_element(pw_input, \"eoEneo88\").perform()\n",
    "time.sleep(2)\n",
    "# \"로그인\" 버튼을 눌러서 로그인을 완료합니다.\n",
    "button = driver.find_element(By.XPATH, '//*[@id=\"main-app-account\"]/div/div[2]/div/div[2]/div[1]/div/div[2]/button')\n",
    "ActionChains(driver).click(button).perform()\n"
   ]
  },
  {
   "cell_type": "markdown",
   "metadata": {},
   "source": [
    "이렇게 저희가 로그인을 손 대지 않고 진행하는 실습을 진행해보았습니다.  \n",
    "이를 바탕으로 로그인이 필요한 정보를 스크래핑할 수 있겠죠? :)"
   ]
  },
  {
   "cell_type": "markdown",
   "metadata": {},
   "source": [
    "Tip: 이 외에도 사용할 수 있는 키보드 이벤트들 역시 많습니다. 다음 [링크](https://www.selenium.dev/documentation/webdriver/actions_api/keyboard/)를 통해 확인하실 수 있어요!"
   ]
  }
 ],
 "metadata": {
  "kernelspec": {
   "display_name": "Python 3 (ipykernel)",
   "language": "python",
   "name": "python3"
  },
  "language_info": {
   "codemirror_mode": {
    "name": "ipython",
    "version": 3
   },
   "file_extension": ".py",
   "mimetype": "text/x-python",
   "name": "python",
   "nbconvert_exporter": "python",
   "pygments_lexer": "ipython3",
   "version": "3.8.5"
  }
 },
 "nbformat": 4,
 "nbformat_minor": 5
}
